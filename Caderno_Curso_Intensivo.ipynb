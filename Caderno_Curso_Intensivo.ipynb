{
  "nbformat": 4,
  "nbformat_minor": 0,
  "metadata": {
    "colab": {
      "name": "Caderno Curso Intensivo",
      "provenance": [],
      "collapsed_sections": [],
      "toc_visible": true
    },
    "kernelspec": {
      "name": "python3",
      "display_name": "Python 3"
    }
  },
  "cells": [
    {
      "cell_type": "markdown",
      "metadata": {
        "id": "VmY9yF1rKY41",
        "colab_type": "text"
      },
      "source": [
        "# Parte 1 - Conceitos básicos\n"
      ]
    },
    {
      "cell_type": "markdown",
      "metadata": {
        "id": "gF79dvC2LcI4",
        "colab_type": "text"
      },
      "source": [
        "# Instalando o Python 3 no Unix:\n",
        "\n",
        "Estou rodando Python em um Ubuntu 20.04. \n",
        "\n",
        "<pre>Python 3.8.2 (default, Jul 16 2020, 14:00:26) \n",
        "[GCC 9.3.0] on linux\n",
        "Type &quot;help&quot;, &quot;copyright&quot;, &quot;credits&quot; or &quot;license&quot; for more information.\n",
        "&gt;&gt;&gt; \n",
        "</pre>\n",
        "\n",
        "O livro pede para iniciar os estudos usando o [Geany](https://www.geany.org/).\n",
        "\n",
        "<pre> sudo apt-get install geany\n",
        "</pre>\n",
        "\n",
        "\n",
        "\n",
        "\n",
        "\n",
        "\n"
      ]
    },
    {
      "cell_type": "markdown",
      "metadata": {
        "id": "dp4CYRagNk8E",
        "colab_type": "text"
      },
      "source": [
        "# Primeiro programa: Hello World\n",
        "\n",
        "O tradicional código foi executado.\n",
        "\n",
        "\n",
        "```\n",
        "print(\"Hello Python World!!\")\n",
        "```\n",
        "Executei e nada. Eu tinha que modificar o caminho no Geany. Lá estava escrito python,  mas o sistema só reconheceu quando eu troquei por python3.\n",
        "\n"
      ]
    },
    {
      "cell_type": "markdown",
      "metadata": {
        "id": "4450YFIBSRCF",
        "colab_type": "text"
      },
      "source": [
        "# Variáveis\n",
        "O livro pede para substituirmos o texto dentro da função *print()* para *message*\n"
      ]
    },
    {
      "cell_type": "code",
      "metadata": {
        "id": "58osJ1wUYxMe",
        "colab_type": "code",
        "colab": {
          "base_uri": "https://localhost:8080/",
          "height": 34
        },
        "outputId": "9509fd6b-6ecb-4b6b-c69a-66bab54a121b"
      },
      "source": [
        "message = 'Hello Python World!'\n",
        "print(message)"
      ],
      "execution_count": null,
      "outputs": [
        {
          "output_type": "stream",
          "text": [
            "Hello Python World!\n"
          ],
          "name": "stdout"
        }
      ]
    },
    {
      "cell_type": "markdown",
      "metadata": {
        "id": "hLF0ptmRZBjU",
        "colab_type": "text"
      },
      "source": [
        "Decidimos utilizar uma **variável**. É importante perceber a ordem: primeiro informamos *message*, o que tem 'dentro' dela, para depois pedirmos para usá-la na função *print()*.\n",
        "\n",
        "Agora veremos o que acontece se declararmos duas vezes *message*:"
      ]
    },
    {
      "cell_type": "code",
      "metadata": {
        "id": "lp0Nmm8VaE02",
        "colab_type": "code",
        "colab": {
          "base_uri": "https://localhost:8080/",
          "height": 34
        },
        "outputId": "8f8ec58b-090d-4a4b-c24a-287bc965b206"
      },
      "source": [
        "message = 'Hello Python World'\n",
        "message = \"Hello Python Crash Course World\"\n",
        "print(message)"
      ],
      "execution_count": null,
      "outputs": [
        {
          "output_type": "stream",
          "text": [
            "Hello Python Crash Course World\n"
          ],
          "name": "stdout"
        }
      ]
    },
    {
      "cell_type": "markdown",
      "metadata": {
        "id": "Eoe-rZhtah_i",
        "colab_type": "text"
      },
      "source": [
        "No exemplo acima, vemos que a variável *message*, quando impressa, apresentou somente nossa segunda frase. Isso aconteceu porque o Python atualizou o que a dentro da nossa variável."
      ]
    },
    {
      "cell_type": "markdown",
      "metadata": {
        "id": "mNoZfmQpqsLF",
        "colab_type": "text"
      },
      "source": [
        "# Nomeando variáveis\n",
        "Temos regras para nomear variáveis:\n",
        "\n",
        "\n",
        "*   Não pode iniciar com um número\n",
        "*   Espaços não são permitidos também\n",
        "*   Não podemos usar palavras reservadas ([Keywords](https://https://docs.python.org/pt-br/3/reference/lexical_analysis.html#keywords)):\n",
        "```\n",
        "False      await      else       import     pass\n",
        "None       break      except     in         raise\n",
        "True       class      finally    is         return\n",
        "and        continue   for        lambda     try\n",
        "as         def        from       nonlocal   while\n",
        "assert     del        global     not        with\n",
        "async      elif       if         or         yield\n",
        "```\n",
        "*   Cuidado ao usar a letra L (l) pois pode ser codificado como (1)\n",
        "\n"
      ]
    },
    {
      "cell_type": "markdown",
      "metadata": {
        "id": "sXZypu1EvE_B",
        "colab_type": "text"
      },
      "source": [
        "# Erros ao nomear variáveis\n",
        "Temos que ter cuidado com as variáveis que criamos. Não pode haver erros ortográficos."
      ]
    },
    {
      "cell_type": "code",
      "metadata": {
        "id": "6YCUPa_hwKQG",
        "colab_type": "code",
        "colab": {
          "base_uri": "https://localhost:8080/",
          "height": 180
        },
        "outputId": "89e42d52-6733-4d8c-fbd5-0fcbda561c38"
      },
      "source": [
        "message = \"Hello Python Crash Course World\"\n",
        "print(mesage)"
      ],
      "execution_count": null,
      "outputs": [
        {
          "output_type": "error",
          "ename": "NameError",
          "evalue": "ignored",
          "traceback": [
            "\u001b[0;31m---------------------------------------------------------------------------\u001b[0m",
            "\u001b[0;31mNameError\u001b[0m                                 Traceback (most recent call last)",
            "\u001b[0;32m<ipython-input-10-6f390412753e>\u001b[0m in \u001b[0;36m<module>\u001b[0;34m()\u001b[0m\n\u001b[1;32m      1\u001b[0m \u001b[0mmessage\u001b[0m \u001b[0;34m=\u001b[0m \u001b[0;34m\"Hello Python Crash Course World\"\u001b[0m\u001b[0;34m\u001b[0m\u001b[0;34m\u001b[0m\u001b[0m\n\u001b[0;32m----> 2\u001b[0;31m \u001b[0mprint\u001b[0m\u001b[0;34m(\u001b[0m\u001b[0mmesage\u001b[0m\u001b[0;34m)\u001b[0m\u001b[0;34m\u001b[0m\u001b[0;34m\u001b[0m\u001b[0m\n\u001b[0m",
            "\u001b[0;31mNameError\u001b[0m: name 'mesage' is not defined"
          ]
        }
      ]
    },
    {
      "cell_type": "markdown",
      "metadata": {
        "id": "gBjchou7wXQc",
        "colab_type": "text"
      },
      "source": [
        "O Python não corrigiu nosso erro de digitação. Para ele, meSSage e meSage são palavras bem diferentes. Tanto que ele nos responde:\n",
        "```\n",
        "NameError: name 'mesage' is not defined\n",
        "```\n",
        "O python procurou pela palavra *mesage* dentro das variáveis e não encontrou. Ele nos informou que a palavra ainda não foi definida.\n",
        "\n"
      ]
    },
    {
      "cell_type": "code",
      "metadata": {
        "id": "D_RkwUlTyRfU",
        "colab_type": "code",
        "colab": {}
      },
      "source": [
        ""
      ],
      "execution_count": null,
      "outputs": []
    },
    {
      "cell_type": "code",
      "metadata": {
        "colab_type": "code",
        "id": "-rEH7yMdyXb-",
        "colab": {
          "base_uri": "https://localhost:8080/",
          "height": 197
        },
        "outputId": "548dc8c1-b399-41ef-c968-6bbafbdfbbd2"
      },
      "source": [
        "message = \"Hello Python Crash Course World\"\n",
        "print(mesage)\n",
        "mesage = 'Tentei ver se funcionava'"
      ],
      "execution_count": null,
      "outputs": [
        {
          "output_type": "error",
          "ename": "NameError",
          "evalue": "ignored",
          "traceback": [
            "\u001b[0;31m---------------------------------------------------------------------------\u001b[0m",
            "\u001b[0;31mNameError\u001b[0m                                 Traceback (most recent call last)",
            "\u001b[0;32m<ipython-input-11-db13e76a13a4>\u001b[0m in \u001b[0;36m<module>\u001b[0;34m()\u001b[0m\n\u001b[1;32m      1\u001b[0m \u001b[0mmessage\u001b[0m \u001b[0;34m=\u001b[0m \u001b[0;34m\"Hello Python Crash Course World\"\u001b[0m\u001b[0;34m\u001b[0m\u001b[0;34m\u001b[0m\u001b[0m\n\u001b[0;32m----> 2\u001b[0;31m \u001b[0mprint\u001b[0m\u001b[0;34m(\u001b[0m\u001b[0mmesage\u001b[0m\u001b[0;34m)\u001b[0m\u001b[0;34m\u001b[0m\u001b[0;34m\u001b[0m\u001b[0m\n\u001b[0m\u001b[1;32m      3\u001b[0m \u001b[0mmesage\u001b[0m \u001b[0;34m=\u001b[0m \u001b[0;34m'Tentei ver se funcionava'\u001b[0m\u001b[0;34m\u001b[0m\u001b[0;34m\u001b[0m\u001b[0m\n",
            "\u001b[0;31mNameError\u001b[0m: name 'mesage' is not defined"
          ]
        }
      ]
    },
    {
      "cell_type": "markdown",
      "metadata": {
        "id": "N-abeJiM2a_5",
        "colab_type": "text"
      },
      "source": [
        "Apesar de ter declarado a variável *mesage*, ela não estava antes da função, então não foi usada."
      ]
    },
    {
      "cell_type": "markdown",
      "metadata": {
        "id": "Ks1QC10k2-6m",
        "colab_type": "text"
      },
      "source": [
        "# Faça você mesmo - variáveis\n",
        "Mensagem simples: Armazene uma mensagem em uma variável e, em seguida, exiba essa mensagem.\n",
        "\n",
        "Mensagens simples: Armazene uma mensagem em uma variável e, em\n",
        "seguida, exiba essa mensagem. Então altere o valor de sua variável para uma\n",
        "nova mensagem e mostre essa nova mensagem."
      ]
    },
    {
      "cell_type": "code",
      "metadata": {
        "id": "ZiseaIwx3cKH",
        "colab_type": "code",
        "colab": {
          "base_uri": "https://localhost:8080/",
          "height": 34
        },
        "outputId": "9e67577a-2b0d-4a9c-9e5d-5076bbf654d6"
      },
      "source": [
        "mensagem = \"Só estou testando\"\n",
        "print(mensagem)"
      ],
      "execution_count": null,
      "outputs": [
        {
          "output_type": "stream",
          "text": [
            "Só estou testando\n"
          ],
          "name": "stdout"
        }
      ]
    },
    {
      "cell_type": "markdown",
      "metadata": {
        "id": "fEweAI4A3rRS",
        "colab_type": "text"
      },
      "source": [
        "Agora vamos atualizar o conteúdo da variável:"
      ]
    },
    {
      "cell_type": "code",
      "metadata": {
        "id": "lcT9kRQT31jg",
        "colab_type": "code",
        "colab": {
          "base_uri": "https://localhost:8080/",
          "height": 51
        },
        "outputId": "670ada0d-5550-4e0e-ddb7-b8656bf2526a"
      },
      "source": [
        "mensagem = \"Só estou testando\"\n",
        "print(mensagem)\n",
        "mensagem = \"Olha eu de novo aqui!\"\n",
        "print(mensagem)"
      ],
      "execution_count": null,
      "outputs": [
        {
          "output_type": "stream",
          "text": [
            "Só estou testando\n",
            "Olha eu de novo aqui!\n"
          ],
          "name": "stdout"
        }
      ]
    }
  ]
}